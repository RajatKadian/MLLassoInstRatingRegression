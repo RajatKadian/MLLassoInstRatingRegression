{
 "cells": [
  {
   "cell_type": "code",
   "execution_count": 11,
   "id": "7b5ee8d3",
   "metadata": {},
   "outputs": [],
   "source": [
    "from sklearn.feature_selection import VarianceThreshold\n",
    "from sklearn.feature_selection import SelectKBest\n",
    "from sklearn.feature_selection import f_regression \n",
    "from sklearn.model_selection import train_test_split\n",
    "import numpy as np\n"
   ]
  },
  {
   "cell_type": "code",
   "execution_count": 12,
   "id": "d0ed416b",
   "metadata": {},
   "outputs": [],
   "source": [
    "def select_correlation(data):\n",
    "    correl = data.corr()['cbrt_NumberRating'].sort_values(ascending=False).abs() > 0.1\n",
    "    dc = pd.DataFrame({'boolean': correl.values}, index=correl.index)\n",
    "    dc = dc[dc.boolean == True ]\n",
    "    dc = data[dc.index]\n",
    "    return(dc)\n",
    "    "
   ]
  },
  {
   "cell_type": "code",
   "execution_count": 13,
   "id": "c40d756e",
   "metadata": {},
   "outputs": [],
   "source": [
    "def select_variance(data, threshold):\n",
    "    vt = VarianceThreshold(threshold=threshold)\n",
    "    vt.fit(data)\n",
    "    pd.DataFrame({'variane': vt.variances_, 'status': vt.get_support()}, index=features.columns)\n",
    "    df_vt = data.iloc[:, vt.get_support()]\n",
    "    return(df_vt)"
   ]
  },
  {
   "cell_type": "code",
   "execution_count": 14,
   "id": "9e16fda5",
   "metadata": {},
   "outputs": [],
   "source": [
    "def select_kbest(data, num):\n",
    "    features = data.drop(columns = ['cbrt_NumberRating'], axis=1)\n",
    "    target = data.cbrt_NumberRating\n",
    "    kbest = SelectKBest(score_func=f_regression, k=num)\n",
    "    kbest.fit_transform(features, target)\n",
    "    df_selKBest = features.iloc[:, kbest.get_support()]\n",
    "#     print(data)\n",
    "#     print(features)\n",
    "#     print(target)\n",
    "    return(df_selKBest)"
   ]
  },
  {
   "cell_type": "code",
   "execution_count": 15,
   "id": "25f236cb",
   "metadata": {},
   "outputs": [],
   "source": [
    "def make_log(data):\n",
    "    data = np.log1p(data)\n",
    "    return data"
   ]
  },
  {
   "cell_type": "code",
   "execution_count": 16,
   "id": "f8972708",
   "metadata": {},
   "outputs": [],
   "source": [
    "def select_correlationBonus(data):\n",
    "    correl = data.corr()['InstRating'].sort_values(ascending=False).abs() > 0.1\n",
    "    dc = pd.DataFrame({'boolean': correl.values}, index=correl.index)\n",
    "    dc = dc[dc.boolean == True ]\n",
    "    dc = data[dc.index]\n",
    "    return(dc)\n",
    "    "
   ]
  },
  {
   "cell_type": "code",
   "execution_count": 18,
   "id": "acb67a57",
   "metadata": {},
   "outputs": [],
   "source": [
    "def select_kbestBonus(data, num):\n",
    "    features = data.drop(columns = ['InstRating'], axis=1)\n",
    "    target = data.cbrt_NumberRating\n",
    "    kbest = SelectKBest(score_func=f_regression, k=num)\n",
    "    kbest.fit_transform(features, target)\n",
    "    df_selKBest = features.iloc[:, kbest.get_support()]\n",
    "#     print(data)\n",
    "#     print(features)\n",
    "#     print(target)\n",
    "    return(df_selKBest)"
   ]
  },
  {
   "cell_type": "code",
   "execution_count": null,
   "id": "460f241d",
   "metadata": {},
   "outputs": [],
   "source": []
  },
  {
   "cell_type": "code",
   "execution_count": null,
   "id": "c3172bc8",
   "metadata": {},
   "outputs": [],
   "source": []
  }
 ],
 "metadata": {
  "kernelspec": {
   "display_name": "Python 3 (ipykernel)",
   "language": "python",
   "name": "python3"
  },
  "language_info": {
   "codemirror_mode": {
    "name": "ipython",
    "version": 3
   },
   "file_extension": ".py",
   "mimetype": "text/x-python",
   "name": "python",
   "nbconvert_exporter": "python",
   "pygments_lexer": "ipython3",
   "version": "3.10.9"
  }
 },
 "nbformat": 4,
 "nbformat_minor": 5
}
